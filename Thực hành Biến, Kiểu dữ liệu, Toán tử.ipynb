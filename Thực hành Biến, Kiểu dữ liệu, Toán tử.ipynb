{
 "cells": [
  {
   "cell_type": "markdown",
   "id": "f72c24e3-0c9e-4bcc-951d-5d00b631b5fe",
   "metadata": {},
   "source": [
    "## Bài 1\r",
    "Viết chương trình nhập vào 2 số nguyên `num1` và `num2`. In ra tích của 2 số nguyên đó."
   ]
  },
  {
   "cell_type": "code",
   "execution_count": null,
   "id": "22db5303-cd79-4ff9-8f20-b9858250e551",
   "metadata": {},
   "outputs": [],
   "source": [
    "num1 =  int(input(\"Nhap vao so nguyen num 1: \"))\n",
    "num2 =  int(input(\"Nhap vao so nguyen num 2: \"))\n",
    "num3 = num1 * num2\n",
    "print (f\"num1 * num2 = {num3}\")"
   ]
  },
  {
   "cell_type": "markdown",
   "id": "2d9f7b5a-9dfe-4d28-8fb5-7dcc513d5a96",
   "metadata": {},
   "source": [
    "## Bài 2 \r",
    "Nhập vào ba biến `diem_toan`, `diem_ly`, `diem_hoa` và in ra điểm trung bình của ba môn học trên."
   ]
  },
  {
   "cell_type": "code",
   "execution_count": 13,
   "id": "354344ac-8198-414f-bd98-e06232210c56",
   "metadata": {},
   "outputs": [
    {
     "name": "stdin",
     "output_type": "stream",
     "text": [
      "Nhập điểm môn toán:  5.2\n",
      "Nhập điểm môn lý:  2.5\n",
      "Nhập điểm môn hóa:  1.2\n"
     ]
    },
    {
     "name": "stdout",
     "output_type": "stream",
     "text": [
      "Điểm trung bình Toán, Lý và Hóa là: 2.966666666666667\n"
     ]
    }
   ],
   "source": [
    "diem_toan = float(input(\"Nhập điểm môn toán: \"))\n",
    "diem_ly = float(input(\"Nhập điểm môn lý: \"))\n",
    "diem_hoa = float(input(\"Nhập điểm môn hóa: \"))\n",
    "tb = float((diem_toan + diem_ly + diem_hoa)/3)\n",
    "print(f\"Điểm trung bình Toán, Lý và Hóa là: {tb}\")\n"
   ]
  },
  {
   "cell_type": "markdown",
   "id": "52ecd132-8efd-4fa2-8bf5-8ea37fb2bfc6",
   "metadata": {},
   "source": [
    "## Bài 3\r",
    "Nhập vào vận tốc của đoàn tàu theo đơn vị km/h.\r",
    "\r",
    "a. Hỏi trung bình mỗi phút đoàn tàu đi được bao nhiêu mét?\r",
    "\r",
    "b. Sau 1 giờ 12 phút đoàn tàu đi được bao nhiêu km?"
   ]
  },
  {
   "cell_type": "code",
   "execution_count": 19,
   "id": "461e5ef1-6a7a-404b-b8cf-3a977c8a5daa",
   "metadata": {},
   "outputs": [
    {
     "name": "stdin",
     "output_type": "stream",
     "text": [
      "Nhập vào vận tốc của đoàn tàu (km/h) :  33\n"
     ]
    },
    {
     "name": "stdout",
     "output_type": "stream",
     "text": [
      "Trung bình mỗi phút đoàn tàu đi được 550.0 mét\n",
      "Sau 1 giờ 12 phút đoàn tàu đi được 39.6 km\n"
     ]
    }
   ],
   "source": [
    "v = int(input(\"Nhập vào vận tốc của đoàn tàu (km/h) : \"))\n",
    "\n",
    "a = (v * (500/30))\n",
    "b = (v * 1.2)\n",
    "print(f\"Trung bình mỗi phút đoàn tàu đi được {a} mét\")\n",
    "print(f\"Sau 1 giờ 12 phút đoàn tàu đi được {b} km\")"
   ]
  }
 ],
 "metadata": {
  "kernelspec": {
   "display_name": "Python 3 (ipykernel)",
   "language": "python",
   "name": "python3"
  },
  "language_info": {
   "codemirror_mode": {
    "name": "ipython",
    "version": 3
   },
   "file_extension": ".py",
   "mimetype": "text/x-python",
   "name": "python",
   "nbconvert_exporter": "python",
   "pygments_lexer": "ipython3",
   "version": "3.11.7"
  }
 },
 "nbformat": 4,
 "nbformat_minor": 5
}
